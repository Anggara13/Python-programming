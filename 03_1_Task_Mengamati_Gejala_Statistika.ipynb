{
  "nbformat": 4,
  "nbformat_minor": 0,
  "metadata": {
    "colab": {
      "provenance": [],
      "include_colab_link": true
    },
    "kernelspec": {
      "name": "python3",
      "display_name": "Python 3"
    },
    "language_info": {
      "name": "python"
    }
  },
  "cells": [
    {
      "cell_type": "markdown",
      "metadata": {
        "id": "view-in-github",
        "colab_type": "text"
      },
      "source": [
        "<a href=\"https://colab.research.google.com/github/Anggara13/Python-programming/blob/main/03_1_Task_Mengamati_Gejala_Statistika.ipynb\" target=\"_parent\"><img src=\"https://colab.research.google.com/assets/colab-badge.svg\" alt=\"Open In Colab\"/></a>"
      ]
    },
    {
      "cell_type": "markdown",
      "source": [
        "# **1. Pengaruh Nilai Ekstrim**\n",
        "\n",
        "Pada bagian ini kalian akan mengamati pengaruh nilai ekstrim terhadap 2 ukuran pemusatan data (mean dan median).\n",
        "\n",
        "## 📖 **Soal**\n",
        "\n",
        "7 Karyawan DQTech, diketahui mempunyai data gaji sebagai berikut\n",
        "\n",
        "<br>\n",
        "\n",
        "<table>\n",
        "        <thead>\n",
        "            <tr>\n",
        "                <th>No</th>\n",
        "                <th>Nama</th>\n",
        "                <th>Gaji (Rp)</th>\n",
        "            </tr>\n",
        "        </thead>\n",
        "        <tbody>\n",
        "            <tr>\n",
        "                <td>1</td>\n",
        "                <td>Andi Pratama</td>\n",
        "                <td>5.800.000</td>\n",
        "            </tr>\n",
        "            <tr>\n",
        "                <td>2</td>\n",
        "                <td>Budi Santoso</td>\n",
        "                <td>5.500.000</td>\n",
        "            </tr>\n",
        "            <tr>\n",
        "                <td>3</td>\n",
        "                <td>Citra Dewi</td>\n",
        "                <td>4.700.000</td>\n",
        "            </tr>\n",
        "            <tr>\n",
        "                <td>4</td>\n",
        "                <td>Dani Fadilah</td>\n",
        "                <td>6.500.000</td>\n",
        "            </tr>\n",
        "            <tr>\n",
        "                <td>5</td>\n",
        "                <td>Eka Putra</td>\n",
        "                <td>6.000.000</td>\n",
        "            </tr>\n",
        "            <tr>\n",
        "                <td>6</td>\n",
        "                <td>Fajar Hidayat</td>\n",
        "                <td>4.900.000</td>\n",
        "            </tr>\n",
        "            <tr>\n",
        "                <td>7</td>\n",
        "                <td>Gita Saraswati</td>\n",
        "                <td>5.200.000</td>\n",
        "            </tr>\n",
        "        </tbody>\n",
        "  </table>\n",
        "\n",
        "dengan menggunakan list pada Python hitunglah rata-rata gaji karyawan di DQTech!"
      ],
      "metadata": {
        "id": "_8trObBL0Ab9"
      }
    },
    {
      "cell_type": "code",
      "execution_count": 20,
      "metadata": {
        "id": "xwIG_qdzz9Va",
        "colab": {
          "base_uri": "https://localhost:8080/"
        },
        "outputId": "0a5b39ae-3bdf-46ab-86e2-77ab9a770578"
      },
      "outputs": [
        {
          "output_type": "execute_result",
          "data": {
            "text/plain": [
              "5514285.714285715"
            ]
          },
          "metadata": {},
          "execution_count": 20
        }
      ],
      "source": [
        "data_1 = [5800000, 5500000, 4700000, 6500000, 6000000, 4900000, 5200000]\n",
        "\n",
        "mean_1 = sum(data_1)/len(data_1)\n",
        "mean_1"
      ]
    },
    {
      "cell_type": "code",
      "source": [
        "# Data gaji karyawan\n",
        "gaji_karyawan = [5800000, 5500000, 4700000, 6500000, 6000000, 4900000, 5200000]\n",
        "\n",
        "# Hitung rata-rata gaji\n",
        "rata_rata_gaji = sum(gaji_karyawan) / len(gaji_karyawan)\n",
        "rata_rata_gaji"
      ],
      "metadata": {
        "colab": {
          "base_uri": "https://localhost:8080/"
        },
        "id": "a4_3xkEsdN3G",
        "outputId": "7123e8bf-b412-4bb1-a07a-cdf86cdac479"
      },
      "execution_count": 5,
      "outputs": [
        {
          "output_type": "execute_result",
          "data": {
            "text/plain": [
              "5514285.714285715"
            ]
          },
          "metadata": {},
          "execution_count": 5
        }
      ]
    },
    {
      "cell_type": "markdown",
      "source": [
        "Kemudian hitung median datanya juga ya!"
      ],
      "metadata": {
        "id": "FCwu4ZbD2rQ9"
      }
    },
    {
      "cell_type": "code",
      "source": [
        "data_1.sort()\n",
        "\n",
        "median_1 = (data_1[(len(data_1)//2)-1] + data_1[len(data_1)//2]) / 2\n",
        "median_1"
      ],
      "metadata": {
        "id": "B4FiNj3L2t7Q",
        "colab": {
          "base_uri": "https://localhost:8080/"
        },
        "outputId": "c8cf3bd6-bcbb-45af-d2ff-920b3f3b0466"
      },
      "execution_count": 21,
      "outputs": [
        {
          "output_type": "execute_result",
          "data": {
            "text/plain": [
              "5350000.0"
            ]
          },
          "metadata": {},
          "execution_count": 21
        }
      ]
    },
    {
      "cell_type": "code",
      "source": [
        "# Hitung median gaji\n",
        "gaji_karyawan_sorted = sorted(gaji_karyawan)\n",
        "n = len(gaji_karyawan_sorted)\n",
        "\n",
        "# Jika jumlah data ganjil, median adalah nilai tengah\n",
        "if n % 2 == 1:\n",
        "    median_gaji = gaji_karyawan_sorted[n // 2]\n",
        "# Jika jumlah data genap, median adalah rata-rata dari dua nilai tengah\n",
        "else:\n",
        "    median_gaji = (gaji_karyawan_sorted[n // 2 - 1] + gaji_karyawan_sorted[n // 2]) / 2\n",
        "\n",
        "median_gaji"
      ],
      "metadata": {
        "colab": {
          "base_uri": "https://localhost:8080/"
        },
        "id": "PtYl1gs2d4U-",
        "outputId": "075c13d4-33c7-47ea-d918-2bd5ff67b51d"
      },
      "execution_count": 6,
      "outputs": [
        {
          "output_type": "execute_result",
          "data": {
            "text/plain": [
              "5500000"
            ]
          },
          "metadata": {},
          "execution_count": 6
        }
      ]
    },
    {
      "cell_type": "markdown",
      "source": [
        "Wah, saat ini terdapat karyawan baru bernama Cakra Negara yang memiliki gaji fantastis yakni Rp. 17.000.000, sehingga data gaji karyawan DQTech saat ini menjadi\n",
        "\n",
        "<br>\n",
        "\n",
        "<table>\n",
        "        <thead>\n",
        "            <tr>\n",
        "                <th>No</th>\n",
        "                <th>Nama</th>\n",
        "                <th>Gaji (Rp)</th>\n",
        "            </tr>\n",
        "        </thead>\n",
        "        <tbody>\n",
        "            <tr>\n",
        "                <td>1</td>\n",
        "                <td>Andi Pratama</td>\n",
        "                <td>5.800.000</td>\n",
        "            </tr>\n",
        "            <tr>\n",
        "                <td>2</td>\n",
        "                <td>Budi Santoso</td>\n",
        "                <td>5.500.000</td>\n",
        "            </tr>\n",
        "            <tr>\n",
        "                <td>3</td>\n",
        "                <td>Citra Dewi</td>\n",
        "                <td>4.700.000</td>\n",
        "            </tr>\n",
        "            <tr>\n",
        "                <td>4</td>\n",
        "                <td>Dani Fadilah</td>\n",
        "                <td>6.500.000</td>\n",
        "            </tr>\n",
        "            <tr>\n",
        "                <td>5</td>\n",
        "                <td>Eka Putra</td>\n",
        "                <td>6.000.000</td>\n",
        "            </tr>\n",
        "            <tr>\n",
        "                <td>6</td>\n",
        "                <td>Fajar Hidayat</td>\n",
        "                <td>4.900.000</td>\n",
        "            </tr>\n",
        "            <tr>\n",
        "                <td>7</td>\n",
        "                <td>Gita Saraswati</td>\n",
        "                <td>5.200.000</td>\n",
        "            </tr>\n",
        "            <tr>\n",
        "                <td>8</td>\n",
        "                <td>Cakra Negara</td>\n",
        "                <td>17.000.000</td>\n",
        "            </tr>\n",
        "        </tbody>\n",
        "  </table>\n",
        "\n",
        "Hitung kembali rata-rata gaji karyawan di DQTech saat ini!"
      ],
      "metadata": {
        "id": "BHF31hzC1orR"
      }
    },
    {
      "cell_type": "code",
      "source": [
        "data_1.append(17000000)\n",
        "data_2 = data_1\n",
        "mean_2 = sum(data_2) / len(data_2)\n",
        "mean_2"
      ],
      "metadata": {
        "id": "FlIdGsRB2MZc",
        "colab": {
          "base_uri": "https://localhost:8080/"
        },
        "outputId": "d434dd69-e3cb-43b8-eb5a-5ff0c13d0256"
      },
      "execution_count": 22,
      "outputs": [
        {
          "output_type": "execute_result",
          "data": {
            "text/plain": [
              "6950000.0"
            ]
          },
          "metadata": {},
          "execution_count": 22
        }
      ]
    },
    {
      "cell_type": "code",
      "source": [
        "# Tambahkan gaji Cakra Negara ke data gaji karyawan\n",
        "gaji_karyawan.append(17000000)\n",
        "\n",
        "# Hitung rata-rata gaji baru\n",
        "rata_rata_gaji_baru = sum(gaji_karyawan) / len(gaji_karyawan)\n",
        "rata_rata_gaji_baru"
      ],
      "metadata": {
        "colab": {
          "base_uri": "https://localhost:8080/"
        },
        "id": "QvDoH5KueCgJ",
        "outputId": "cb6236c8-a41f-4db1-8175-c38d117ce9b5"
      },
      "execution_count": 7,
      "outputs": [
        {
          "output_type": "execute_result",
          "data": {
            "text/plain": [
              "6950000.0"
            ]
          },
          "metadata": {},
          "execution_count": 7
        }
      ]
    },
    {
      "cell_type": "markdown",
      "source": [
        "Kemudian hitung median data barunya juga ya!"
      ],
      "metadata": {
        "id": "3ffdnEw93ZMA"
      }
    },
    {
      "cell_type": "code",
      "source": [
        "median_2 = (data_2[(len(data_2)//2)-1] + data_2[len(data_2)//2]) / 2\n",
        "median_2"
      ],
      "metadata": {
        "id": "t0kra0sL3L5P",
        "colab": {
          "base_uri": "https://localhost:8080/"
        },
        "outputId": "4f6dc151-5737-4d32-e892-eac6f2b5323c"
      },
      "execution_count": 23,
      "outputs": [
        {
          "output_type": "execute_result",
          "data": {
            "text/plain": [
              "5650000.0"
            ]
          },
          "metadata": {},
          "execution_count": 23
        }
      ]
    },
    {
      "cell_type": "code",
      "source": [
        "# Hitung median gaji\n",
        "gaji_karyawan_sorted = sorted(gaji_karyawan)\n",
        "n = len(gaji_karyawan_sorted)\n",
        "\n",
        "# Jika jumlah data ganjil, median adalah nilai tengah\n",
        "if n % 2 == 1:\n",
        "    median_gaji = gaji_karyawan_sorted[n // 2]\n",
        "# Jika jumlah data genap, median adalah rata-rata dari dua nilai tengah\n",
        "else:\n",
        "    median_gaji = (gaji_karyawan_sorted[n // 2 - 1] + gaji_karyawan_sorted[n // 2]) / 2\n",
        "\n",
        "median_gaji"
      ],
      "metadata": {
        "colab": {
          "base_uri": "https://localhost:8080/"
        },
        "id": "U3B-OIbTend2",
        "outputId": "19269bca-24fc-45c0-adbc-0b381fc53c53"
      },
      "execution_count": 8,
      "outputs": [
        {
          "output_type": "execute_result",
          "data": {
            "text/plain": [
              "5650000.0"
            ]
          },
          "metadata": {},
          "execution_count": 8
        }
      ]
    },
    {
      "cell_type": "markdown",
      "source": [
        "Sekarang tampilkan hasil perhitunganmu!"
      ],
      "metadata": {
        "id": "EGYF39h23cVj"
      }
    },
    {
      "cell_type": "code",
      "source": [
        "print('          | Data 1\\t| Data2')\n",
        "print(f'Rata-rata | {mean_1:.2f}\\t| {mean_2:.2f}')\n",
        "print(f'Median    | {median_1:.2f}\\t| {median_2:.2f}')"
      ],
      "metadata": {
        "id": "nvtH119Z3ei_",
        "colab": {
          "base_uri": "https://localhost:8080/"
        },
        "outputId": "30314178-0b3a-412e-cb48-37ea334cd551"
      },
      "execution_count": 30,
      "outputs": [
        {
          "output_type": "stream",
          "name": "stdout",
          "text": [
            "          | Data 1\t| Data2\n",
            "Rata-rata | 5514285.71\t| 6950000.00\n",
            "Median    | 5350000.00\t| 5650000.00\n"
          ]
        }
      ]
    },
    {
      "cell_type": "markdown",
      "source": [
        "Apa yang terjadi dengan nilai rataan dan median data karyawan gaji sekarang? Menurutmu mengapa hal tersebut terjadi? Coba Interpretasikan hasil pengamatanmu!"
      ],
      "metadata": {
        "id": "KAKQVzwF2M6A"
      }
    },
    {
      "cell_type": "markdown",
      "source": [
        "---"
      ],
      "metadata": {
        "id": "UbVGDiFe2h9a"
      }
    },
    {
      "cell_type": "markdown",
      "source": [
        "# **2. Komparasi Simpangan Baku**\n",
        "\n",
        "Pada bagian ini kalian akan mengamati nilai penyebaran data.\n",
        "\n",
        "Simpangan baku (standard deviation) adalah ukuran statistik yang digunakan untuk mengukur sebaran atau dispersi data dalam sebuah sampel atau populasi. Simpangan baku menggambarkan sejauh mana nilai-nilai data tersebar di sekitar rata-rata (mean) dalam suatu distribusi.\n",
        "\n",
        "\\begin{equation}\n",
        "\\sigma = \\sqrt{\\frac{\\sum{(x - \\mu)^2}}{N}}\n",
        "\\end{equation}\n",
        "\n",
        "* σ adalah simpangan baku.\n",
        "* 𝒙 adalah nilai data dalam sampel atau populasi.\n",
        "* μ adalah rata-rata (mean) dari data.\n",
        "* ∑ adalah simbol sigma yang menunjukkan penjumlahan.\n",
        "* 𝑵 adalah jumlah total nilai dalam sampel atau populasi.\n",
        "<br><br>"
      ],
      "metadata": {
        "id": "UwGcIATI2nQe"
      }
    },
    {
      "cell_type": "markdown",
      "source": [
        "## 📖 **Soal**\n",
        "\n",
        "Karena ketidakpastian situasi global, memaksa DQTech untuk melakukan efisiensi. Dari beberapa produk yang DQTech jual, DQTech harus mengeliminasi 1 produk. Data penjualan pada periode waktu tertentu disajikan pada list berikut :\n",
        "\n",
        "Penjualan produk A (secara kuantitas tiap bulannya)\n",
        "```\n",
        "penjualan_produk_A = [55, 49, 48, 50, 52, 47, 51, 50, 53, 48, 50, 49, 51, 46, 50]\n",
        "```\n",
        "\n",
        "Penjualan produk B (secara kuantitas tiap bulannya)\n",
        "```\n",
        "penjualan_produk_B = [80, 20, 45, 65, 30, 90, 10, 110, 60, 55, 75, 35, 48, 50, 25]\n",
        "```\n",
        "\n",
        "Coba hitung simpangan baku dari `penjualan_produk_A` dan `penjualan_produk_B` dan bantu DQTech menentukan mana produk yang sebaiknya dipertahankan? Mengapa?"
      ],
      "metadata": {
        "id": "7rQTXQlD5DMv"
      }
    },
    {
      "cell_type": "code",
      "source": [
        "import math\n",
        "\n",
        "penjualan_produk_A = [55, 49, 48, 50, 52, 47, 51, 50, 53, 48, 50, 49, 51, 46, 50]\n",
        "penjualan_produk_B = [80, 20, 45, 65, 30, 90, 10, 110, 60, 55, 75, 35, 48, 50, 25]\n",
        "\n",
        "avg_produk_A = sum(penjualan_produk_A)/len(penjualan_produk_A)\n",
        "avg_produk_B = sum(penjualan_produk_B)/len(penjualan_produk_B)\n",
        "\n",
        "simpangan_baku_A = math.sqrt(sum([(n - avg_produk_A)**2 for n in penjualan_produk_A])/len(penjualan_produk_A))\n",
        "simpangan_baku_B = math.sqrt(sum([(n - avg_produk_B)**2 for n in penjualan_produk_B])/len(penjualan_produk_B))\n",
        "\n",
        "simpangan_baku_A, simpangan_baku_B"
      ],
      "metadata": {
        "id": "PrBN_d972ken",
        "colab": {
          "base_uri": "https://localhost:8080/"
        },
        "outputId": "efe27be6-1d61-4d32-9e9a-32a0d2ab4684"
      },
      "execution_count": 34,
      "outputs": [
        {
          "output_type": "execute_result",
          "data": {
            "text/plain": [
              "(2.2350739485653612, 26.70880004792428)"
            ]
          },
          "metadata": {},
          "execution_count": 34
        }
      ]
    },
    {
      "cell_type": "code",
      "source": [
        "import math\n",
        "\n",
        "# Data penjualan produk\n",
        "penjualan_produk_A = [55, 49, 48, 50, 52, 47, 51, 50, 53, 48, 50, 49, 51, 46, 50]\n",
        "penjualan_produk_B = [80, 20, 45, 65, 30, 90, 10, 110, 60, 55, 75, 35, 48, 50, 25]\n",
        "\n",
        "# Fungsi untuk menghitung simpangan baku\n",
        "def hitung_simpangan_baku(data):\n",
        "    rata_rata = sum(data) / len(data)\n",
        "    variansi = sum((n - rata_rata) ** 2 for n in data) / len(data)\n",
        "    return math.sqrt(variansi)\n",
        "\n",
        "# Hitung simpangan baku untuk masing-masing produk\n",
        "simpangan_baku_A = hitung_simpangan_baku(penjualan_produk_A)\n",
        "simpangan_baku_B = hitung_simpangan_baku(penjualan_produk_B)\n",
        "\n",
        "simpangan_baku_A, simpangan_baku_B"
      ],
      "metadata": {
        "colab": {
          "base_uri": "https://localhost:8080/"
        },
        "id": "wfJV77M3b234",
        "outputId": "1b390e1d-c6b5-49f8-885a-189796bc1cd5"
      },
      "execution_count": 31,
      "outputs": [
        {
          "output_type": "execute_result",
          "data": {
            "text/plain": [
              "(2.2350739485653612, 26.70880004792428)"
            ]
          },
          "metadata": {},
          "execution_count": 31
        }
      ]
    }
  ]
}